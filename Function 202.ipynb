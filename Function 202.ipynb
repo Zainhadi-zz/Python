{
 "cells": [
  {
   "cell_type": "code",
   "execution_count": 2,
   "metadata": {},
   "outputs": [
    {
     "name": "stdout",
     "output_type": "stream",
     "text": [
      "(1, 2.3) <class 'tuple'>\n"
     ]
    }
   ],
   "source": [
    "# args and kwargs\n",
    "\n",
    "def function_1(*args):\n",
    "    print(args,type(args))\n",
    "    \n",
    "function_1(1,2.3)\n"
   ]
  },
  {
   "cell_type": "code",
   "execution_count": 4,
   "metadata": {},
   "outputs": [
    {
     "name": "stdout",
     "output_type": "stream",
     "text": [
      "{'email': 'username_1', 'password': '1234'} <class 'dict'>\n"
     ]
    }
   ],
   "source": [
    "def funtion_2(**kwargs):\n",
    "    print(kwargs,type(kwargs))\n",
    "\n",
    "funtion_2(email = \"username_1\",password=\"1234\")"
   ]
  },
  {
   "cell_type": "code",
   "execution_count": 7,
   "metadata": {},
   "outputs": [],
   "source": [
    "def function_3(a,b):\n",
    "    return a+b\n",
    "\n",
    "f = function_3"
   ]
  },
  {
   "cell_type": "code",
   "execution_count": 8,
   "metadata": {},
   "outputs": [
    {
     "data": {
      "text/plain": [
       "4"
      ]
     },
     "execution_count": 8,
     "metadata": {},
     "output_type": "execute_result"
    }
   ],
   "source": [
    "f(2,2)"
   ]
  },
  {
   "cell_type": "code",
   "execution_count": 9,
   "metadata": {},
   "outputs": [],
   "source": [
    "def function_4(c,d):\n",
    "    return c*d\n",
    "\n",
    "g = function_4"
   ]
  },
  {
   "cell_type": "code",
   "execution_count": 10,
   "metadata": {},
   "outputs": [],
   "source": [
    "h = [f,g]"
   ]
  },
  {
   "cell_type": "code",
   "execution_count": 11,
   "metadata": {},
   "outputs": [
    {
     "name": "stdout",
     "output_type": "stream",
     "text": [
      "44\n"
     ]
    }
   ],
   "source": [
    "print(h[1](2,22))"
   ]
  },
  {
   "cell_type": "code",
   "execution_count": 16,
   "metadata": {},
   "outputs": [],
   "source": [
    "def factorial(number):\n",
    "...     # Validate input\n",
    "...     if not isinstance(number, int):\n",
    "...         raise TypeError(\"Sorry. 'number' must be an integer.\")\n",
    "...     if number < 0:\n",
    "...         raise ValueError(\"Sorry. 'number' must be zero or positive.\")\n",
    "...     # Calculate the factorial of number\n",
    "...     def inner_factorial(number):\n",
    "...         if number <= 1:\n",
    "...             return 1\n",
    "...         return number * inner_factorial(number - 1)\n",
    "...     return inner_factorial(number)\n"
   ]
  },
  {
   "cell_type": "code",
   "execution_count": 21,
   "metadata": {},
   "outputs": [
    {
     "data": {
      "text/plain": [
       "6"
      ]
     },
     "execution_count": 21,
     "metadata": {},
     "output_type": "execute_result"
    }
   ],
   "source": [
    "factorial(3)"
   ]
  },
  {
   "cell_type": "code",
   "execution_count": null,
   "metadata": {},
   "outputs": [],
   "source": []
  }
 ],
 "metadata": {
  "kernelspec": {
   "display_name": "Python 3",
   "language": "python",
   "name": "python3"
  },
  "language_info": {
   "codemirror_mode": {
    "name": "ipython",
    "version": 3
   },
   "file_extension": ".py",
   "mimetype": "text/x-python",
   "name": "python",
   "nbconvert_exporter": "python",
   "pygments_lexer": "ipython3",
   "version": "3.8.3"
  }
 },
 "nbformat": 4,
 "nbformat_minor": 4
}
