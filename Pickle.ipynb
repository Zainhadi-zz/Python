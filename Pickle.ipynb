{
 "cells": [
  {
   "cell_type": "code",
   "execution_count": 1,
   "metadata": {},
   "outputs": [],
   "source": [
    "import pickle\n",
    "import json\n"
   ]
  },
  {
   "cell_type": "code",
   "execution_count": 2,
   "metadata": {},
   "outputs": [],
   "source": [
    "#Pickle the python object\n",
    "cars = [\"cultus\",\"mehran\",\"khybar\",\"swift\"]\n",
    "filename = \"cars.pkl\"\n",
    "fileobj = open(filename,'wb')\n",
    "pickle.dump(cars,fileobj)\n",
    "fileobj.close()"
   ]
  },
  {
   "cell_type": "code",
   "execution_count": 3,
   "metadata": {},
   "outputs": [
    {
     "name": "stdout",
     "output_type": "stream",
     "text": [
      "['cultus', 'mehran', 'khybar', 'swift']\n"
     ]
    }
   ],
   "source": [
    "#Unpickle the pickle file\n",
    "\n",
    "file = \"cars.pkl\"\n",
    "fileobj1 = open(file,'rb')\n",
    "mycars = pickle.load(fileobj1)\n",
    "print(mycars)"
   ]
  },
  {
   "cell_type": "code",
   "execution_count": null,
   "metadata": {},
   "outputs": [],
   "source": []
  }
 ],
 "metadata": {
  "kernelspec": {
   "display_name": "Python 3",
   "language": "python",
   "name": "python3"
  },
  "language_info": {
   "codemirror_mode": {
    "name": "ipython",
    "version": 3
   },
   "file_extension": ".py",
   "mimetype": "text/x-python",
   "name": "python",
   "nbconvert_exporter": "python",
   "pygments_lexer": "ipython3",
   "version": "3.8.3"
  }
 },
 "nbformat": 4,
 "nbformat_minor": 4
}
