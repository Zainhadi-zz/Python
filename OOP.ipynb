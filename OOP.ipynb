{
 "cells": [
  {
   "cell_type": "code",
   "execution_count": 1,
   "metadata": {},
   "outputs": [],
   "source": [
    "#Object Oriented Programming\n",
    "#OOP\n",
    "#Class are the template \n",
    "#DRY Do not Repect Yourself\n",
    "#Restrict Function from concern use"
   ]
  },
  {
   "cell_type": "code",
   "execution_count": 7,
   "metadata": {},
   "outputs": [
    {
     "name": "stdout",
     "output_type": "stream",
     "text": [
      "<__main__.student object at 0x000001A34FDBC7C0> <__main__.student object at 0x000001A34FDBC3D0>\n"
     ]
    }
   ],
   "source": [
    "class student:\n",
    "    pass\n",
    "\n",
    "\n",
    "student1 = student()\n",
    "student2 = student()\n",
    "\n",
    "print(hussain,wamiq)\n",
    "\n"
   ]
  },
  {
   "cell_type": "code",
   "execution_count": 9,
   "metadata": {},
   "outputs": [],
   "source": [
    "student1.name = \"hussain khan\"\n",
    "student1.fathername = \"ali khan\"\n",
    "student1.age = 23\n",
    "student1.class_ = 12\n",
    "student.city = \"karachi\"\n",
    "student1.subject = [\"maths\",\"physics\",\"chemistry\",\"computer science\"]"
   ]
  },
  {
   "cell_type": "code",
   "execution_count": 11,
   "metadata": {},
   "outputs": [
    {
     "name": "stdout",
     "output_type": "stream",
     "text": [
      "<__main__.student object at 0x000001A34FDBCAF0>\n"
     ]
    }
   ],
   "source": []
  },
  {
   "cell_type": "code",
   "execution_count": null,
   "metadata": {},
   "outputs": [],
   "source": []
  }
 ],
 "metadata": {
  "kernelspec": {
   "display_name": "Python 3",
   "language": "python",
   "name": "python3"
  },
  "language_info": {
   "codemirror_mode": {
    "name": "ipython",
    "version": 3
   },
   "file_extension": ".py",
   "mimetype": "text/x-python",
   "name": "python",
   "nbconvert_exporter": "python",
   "pygments_lexer": "ipython3",
   "version": "3.8.3"
  }
 },
 "nbformat": 4,
 "nbformat_minor": 4
}
