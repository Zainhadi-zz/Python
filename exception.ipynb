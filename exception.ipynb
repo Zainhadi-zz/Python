{
 "cells": [
  {
   "cell_type": "code",
   "execution_count": 1,
   "metadata": {},
   "outputs": [],
   "source": [
    "#Exception Handling in Python \n",
    "#Exception handling deals with errors\n",
    "#There are three types of errors\n",
    "#Compile time error or Syntax error\n",
    "#Run time error\n",
    "#Logical error"
   ]
  },
  {
   "cell_type": "code",
   "execution_count": 28,
   "metadata": {},
   "outputs": [],
   "source": [
    "#Examples of error\n",
    "\n",
    "# 1/0\n",
    "\n",
    "# for i in range\n",
    "#     print(\"hey python\")\n",
    "\n",
    "\n",
    "# import math\n",
    "# print(math.sqrt(-1))\n",
    "\n",
    "\n",
    "# with open(\"markone.txt\",\"r\") as file:\n",
    "#     content = file.read()\n",
    "\n",
    "\n",
    "# 1 + 2 + \"three\""
   ]
  },
  {
   "cell_type": "code",
   "execution_count": 30,
   "metadata": {},
   "outputs": [],
   "source": [
    "# try:\n",
    "#     #Run code\n",
    "# except:\n",
    "#     #Print error type\n",
    "\n",
    "# else:\n",
    "#     #run after error type\n",
    "    \n",
    "# finally:\n",
    "#     #regardless wahat happen this code will run\n",
    "    "
   ]
  },
  {
   "cell_type": "code",
   "execution_count": 31,
   "metadata": {},
   "outputs": [],
   "source": [
    "# value1 = input()\n",
    "# value2 = input()\n",
    "\n",
    "# # print(int(value1)+int(value2))\n",
    "\n",
    "# try:\n",
    "#     print(int(value1)+int(value2))\n",
    "    \n",
    "# except Exception as e:\n",
    "#     print(e)\n",
    "#     print(\"Please enter number values and try to run this program again\")\n",
    "    \n",
    "# print(\"this is a code after the program will run or face any error\")"
   ]
  },
  {
   "cell_type": "code",
   "execution_count": null,
   "metadata": {},
   "outputs": [],
   "source": [
    "# def div():\n",
    "#     try:\n",
    "#         a = int(input())\n",
    "#         b = int(input())\n",
    "#         print(a/b)\n",
    "\n",
    "#     except ZeroDivisionError as err:\n",
    "#         print(\"can not divide by zero\",err)\n",
    "\n",
    "#     except TypeError:\n",
    "#         print(\"Can not enter string values\")\n",
    "\n",
    "#     except ValueError:\n",
    "#         print(\"Wrong input\")\n",
    "    \n",
    "#     finally:\n",
    "#         print(\"Program Complete\")\n",
    "\n",
    "\n",
    "\n",
    "# while True:\n",
    "#     div()"
   ]
  },
  {
   "cell_type": "code",
   "execution_count": null,
   "metadata": {},
   "outputs": [],
   "source": []
  }
 ],
 "metadata": {
  "kernelspec": {
   "display_name": "Python 3",
   "language": "python",
   "name": "python3"
  },
  "language_info": {
   "codemirror_mode": {
    "name": "ipython",
    "version": 3
   },
   "file_extension": ".py",
   "mimetype": "text/x-python",
   "name": "python",
   "nbconvert_exporter": "python",
   "pygments_lexer": "ipython3",
   "version": "3.8.3"
  }
 },
 "nbformat": 4,
 "nbformat_minor": 4
}
