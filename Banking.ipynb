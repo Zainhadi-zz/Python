{
 "cells": [
  {
   "cell_type": "code",
   "execution_count": null,
   "metadata": {},
   "outputs": [],
   "source": [
    "\"\"\"\n",
    "Class: HBL\n",
    "\n",
    "Member variables:\n",
    "name:string\n",
    "password:string\n",
    "amount:float\n",
    "history:list of dictionary\n",
    "\n",
    "Member Functions:\n",
    "add_money()\n",
    "deduct_money()\n",
    "show_transactions()\n",
    "show_balance()\n",
    "\n",
    "\"\"\""
   ]
  },
  {
   "cell_type": "code",
   "execution_count": 11,
   "metadata": {},
   "outputs": [
    {
     "ename": "NameError",
     "evalue": "name 'time' is not defined",
     "output_type": "error",
     "traceback": [
      "\u001b[1;31m---------------------------------------------------------------------------\u001b[0m",
      "\u001b[1;31mNameError\u001b[0m                                 Traceback (most recent call last)",
      "\u001b[1;32m<ipython-input-11-eaad77e58eb7>\u001b[0m in \u001b[0;36m<module>\u001b[1;34m\u001b[0m\n\u001b[0;32m     36\u001b[0m \u001b[1;33m\u001b[0m\u001b[0m\n\u001b[0;32m     37\u001b[0m \u001b[0mcustomer1\u001b[0m\u001b[1;33m.\u001b[0m\u001b[0madd_money\u001b[0m\u001b[1;33m(\u001b[0m\u001b[1;36m300\u001b[0m\u001b[1;33m)\u001b[0m\u001b[1;33m\u001b[0m\u001b[1;33m\u001b[0m\u001b[0m\n\u001b[1;32m---> 38\u001b[1;33m \u001b[0mtime\u001b[0m\u001b[1;33m.\u001b[0m\u001b[0msleep\u001b[0m\u001b[1;33m(\u001b[0m\u001b[1;36m1\u001b[0m\u001b[1;33m)\u001b[0m\u001b[1;33m\u001b[0m\u001b[1;33m\u001b[0m\u001b[0m\n\u001b[0m\u001b[0;32m     39\u001b[0m \u001b[0mcustomer1\u001b[0m\u001b[1;33m.\u001b[0m\u001b[0mdeduct_money\u001b[0m\u001b[1;33m(\u001b[0m\u001b[1;36m50\u001b[0m\u001b[1;33m)\u001b[0m\u001b[1;33m\u001b[0m\u001b[1;33m\u001b[0m\u001b[0m\n\u001b[0;32m     40\u001b[0m \u001b[0mtime\u001b[0m\u001b[1;33m.\u001b[0m\u001b[0msleep\u001b[0m\u001b[1;33m(\u001b[0m\u001b[1;36m2\u001b[0m\u001b[1;33m)\u001b[0m\u001b[1;33m\u001b[0m\u001b[1;33m\u001b[0m\u001b[0m\n",
      "\u001b[1;31mNameError\u001b[0m: name 'time' is not defined"
     ]
    }
   ],
   "source": [
    "from datetime import datetime\n",
    "\n",
    "class Banking:\n",
    "    def __init__(self,name,password,amount):\n",
    "        self.__name= name\n",
    "        self.__password = password\n",
    "        self.__amount = amount\n",
    "        self.__history =  [] #dictionary with key no and time of transaction\n",
    "        self.__CODE = {1:\"Successfully added money\",2:\"Successfully deducted money\",3:\"Unsuccessfully added money\",4:\"Unsuccessfulyy deducted money\"}\n",
    "    def add_money(self,amount):\n",
    "        if amount < 0:\n",
    "            print(\"Try to call the deduct function\")\n",
    "            self.__history.append({\"code\":3,\"time\":datetime.now().time()})\n",
    "        else:\n",
    "            self.__amount += amount\n",
    "            self.__history.append({\"code\":1,\"time\":datetime.now().time()})\n",
    "    def deduct_money(self,amount):\n",
    "        if amount == 0:\n",
    "            print(\"Invalid amount enter\")\n",
    "            self.__history.append({\"code\":4,\"time\":datetime.now().time()})\n",
    "        elif amount > self.__amount:\n",
    "            print(\"Not enough balance\")\n",
    "            self.__history.append({\"code\":4,\"time\":datetime.now().time()})\n",
    "        else:\n",
    "            self.__amount -= amount\n",
    "            self.__history.append({\"code\":2,\"time\":datetime.now().time()})\n",
    "    def show_balance(self):\n",
    "        print(\"Amount is balance is \",self.__amount)\n",
    "    def show_transactions(self,n=None):\n",
    "        reversed = self.__history[::-1]\n",
    "        maximum = len(self.__history) if n == None else n\n",
    "        for i in range(maximum):\n",
    "            print(\"{} at {}\".format(self.__CODE[reversed[i][\"code\"]],reversed[i][\"time\"]))\n",
    "\n",
    "customer1 = Banking(\"haris\",\"temp123\",5000)\n",
    "\n",
    "customer1.add_money(300)\n",
    "time.sleep(1)\n",
    "customer1.deduct_money(50)\n",
    "time.sleep(2)\n",
    "customer1.add_money(300)\n",
    "customer1.show_balance()\n",
    "customer1.show_transactions()\n",
    "        "
   ]
  },
  {
   "cell_type": "code",
   "execution_count": null,
   "metadata": {},
   "outputs": [],
   "source": []
  }
 ],
 "metadata": {
  "kernelspec": {
   "display_name": "Python 3",
   "language": "python",
   "name": "python3"
  },
  "language_info": {
   "codemirror_mode": {
    "name": "ipython",
    "version": 3
   },
   "file_extension": ".py",
   "mimetype": "text/x-python",
   "name": "python",
   "nbconvert_exporter": "python",
   "pygments_lexer": "ipython3",
   "version": "3.8.3"
  }
 },
 "nbformat": 4,
 "nbformat_minor": 4
}
