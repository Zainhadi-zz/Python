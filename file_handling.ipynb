{
 "cells": [
  {
   "cell_type": "code",
   "execution_count": 2,
   "metadata": {},
   "outputs": [],
   "source": [
    "hey = \" hey world\"\n",
    "\n",
    "hey = open(\"hey.txt\",\"w\")"
   ]
  },
  {
   "cell_type": "code",
   "execution_count": 3,
   "metadata": {},
   "outputs": [
    {
     "data": {
      "text/plain": [
       "<_io.TextIOWrapper name='hey.txt' mode='w' encoding='cp1252'>"
      ]
     },
     "execution_count": 3,
     "metadata": {},
     "output_type": "execute_result"
    }
   ],
   "source": [
    "hey"
   ]
  },
  {
   "cell_type": "code",
   "execution_count": 9,
   "metadata": {},
   "outputs": [],
   "source": [
    "with open(\"myfile.txt\",\"w\") as file:\n",
    "    file.write(\"hey world\")"
   ]
  },
  {
   "cell_type": "code",
   "execution_count": 10,
   "metadata": {},
   "outputs": [
    {
     "name": "stdout",
     "output_type": "stream",
     "text": [
      "hey world\n"
     ]
    }
   ],
   "source": [
    "with open(\"myfile.txt\",\"r\") as file1:\n",
    "    content = file1.read()\n",
    "print(content)"
   ]
  },
  {
   "cell_type": "code",
   "execution_count": 13,
   "metadata": {},
   "outputs": [
    {
     "name": "stdout",
     "output_type": "stream",
     "text": [
      "hey world hello python dev hello python dev hello python dev\n"
     ]
    }
   ],
   "source": [
    "with open(\"myfile.txt\",\"a\") as file2:\n",
    "    file2.write(\" hello python dev\")\n",
    "\n",
    "with open(\"myfile.txt\",\"r\") as file3:\n",
    "    content1 = file3.read()\n",
    "print(content1)"
   ]
  },
  {
   "cell_type": "code",
   "execution_count": 19,
   "metadata": {},
   "outputs": [
    {
     "name": "stdout",
     "output_type": "stream",
     "text": [
      "Enter value house\n",
      "Enter value market\n",
      "Enter value car\n",
      "Enter value Done\n"
     ]
    }
   ],
   "source": [
    "flag = True\n",
    "list1=[]\n",
    "while flag:\n",
    "    ui = input(\"Enter value \")\n",
    "    if ui == \"Done\":\n",
    "        flag = False\n",
    "    else:\n",
    "        list1.append(ui)\n",
    "for i in list1:\n",
    "    with open(\"mylist.txt\",\"a\") as file3:\n",
    "        file3.writelines(i)\n",
    "        "
   ]
  },
  {
   "cell_type": "code",
   "execution_count": 15,
   "metadata": {},
   "outputs": [
    {
     "data": {
      "text/plain": [
       "['hey', 'hey', 'hey', 'done']"
      ]
     },
     "execution_count": 15,
     "metadata": {},
     "output_type": "execute_result"
    }
   ],
   "source": []
  },
  {
   "cell_type": "code",
   "execution_count": null,
   "metadata": {},
   "outputs": [],
   "source": []
  }
 ],
 "metadata": {
  "kernelspec": {
   "display_name": "Python 3",
   "language": "python",
   "name": "python3"
  },
  "language_info": {
   "codemirror_mode": {
    "name": "ipython",
    "version": 3
   },
   "file_extension": ".py",
   "mimetype": "text/x-python",
   "name": "python",
   "nbconvert_exporter": "python",
   "pygments_lexer": "ipython3",
   "version": "3.8.3"
  }
 },
 "nbformat": 4,
 "nbformat_minor": 4
}
