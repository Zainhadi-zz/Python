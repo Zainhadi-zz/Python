{
 "cells": [
  {
   "cell_type": "code",
   "execution_count": 3,
   "metadata": {},
   "outputs": [
    {
     "name": "stdout",
     "output_type": "stream",
     "text": [
      "ahmed ali waqar maha\n"
     ]
    }
   ],
   "source": [
    "#Conventional Function\n",
    "def function_name_print(a,b,c,d):\n",
    "    print(a,b,c,d)\n",
    "function_name_print(\"ahmed\",\"ali\",\"waqar\",\"maha\")"
   ]
  },
  {
   "cell_type": "code",
   "execution_count": 5,
   "metadata": {},
   "outputs": [
    {
     "name": "stdout",
     "output_type": "stream",
     "text": [
      "Printing normal argument\n",
      "hello\n",
      "\n",
      " Printing args\n",
      "['maha', 'zubair', 'ahmed', 'hammad']\n"
     ]
    }
   ],
   "source": [
    "#Advance Function\n",
    "#Dynamic\n",
    "\n",
    "def function_with_args(a,*b):\n",
    "    print(\"Printing normal argument\")\n",
    "    print(a)\n",
    "    print(\"\\n Printing args\")\n",
    "    for i in b:\n",
    "        print(i)\n",
    "\n",
    "        \n",
    "list1 = [\"maha\",\"zubair\",\"ahmed\",\"hammad\"]\n",
    "function_with_args(\"hello\",list1)"
   ]
  },
  {
   "cell_type": "code",
   "execution_count": 13,
   "metadata": {},
   "outputs": [],
   "source": [
    "#kwargs function\n",
    "\n",
    "def function_with_args_kwargs(a,*b,**c):\n",
    "    print(\"Normal arg\")\n",
    "    print(a)\n",
    "    print(\"\\nPrinting args\")\n",
    "    for v in b:\n",
    "        print(v)\n",
    "    print(\"\\nPrinting kwargs\")\n",
    "    for k,i in c.items():\n",
    "        print(\"{} is a {}\".format(k,i))\n",
    "\n",
    "name = \"maha\"\n",
    "list2 = [\"maha\",\"ali\",\"zubair\"]\n",
    "dic1 = {\"maha\":\"student\",\"ali\":\"monitor\",\"zubair\":\"sales man\"}"
   ]
  },
  {
   "cell_type": "code",
   "execution_count": 14,
   "metadata": {},
   "outputs": [
    {
     "name": "stdout",
     "output_type": "stream",
     "text": [
      "Normal arg\n",
      "maha\n",
      "\n",
      "Printing args\n",
      "maha\n",
      "ali\n",
      "zubair\n",
      "\n",
      "Printing kwargs\n",
      "maha is a student\n",
      "ali is a monitor\n",
      "zubair is a sales man\n"
     ]
    }
   ],
   "source": [
    "function_with_args_kwargs(name,*list2,**dic1)"
   ]
  },
  {
   "cell_type": "code",
   "execution_count": null,
   "metadata": {},
   "outputs": [],
   "source": []
  }
 ],
 "metadata": {
  "kernelspec": {
   "display_name": "Python 3",
   "language": "python",
   "name": "python3"
  },
  "language_info": {
   "codemirror_mode": {
    "name": "ipython",
    "version": 3
   },
   "file_extension": ".py",
   "mimetype": "text/x-python",
   "name": "python",
   "nbconvert_exporter": "python",
   "pygments_lexer": "ipython3",
   "version": "3.8.3"
  }
 },
 "nbformat": 4,
 "nbformat_minor": 4
}
